{
 "cells": [
  {
   "cell_type": "markdown",
   "metadata": {
    "deletable": false,
    "editable": false,
    "nbgrader": {
     "cell_type": "markdown",
     "checksum": "026b65097ceba3aba6ab50d1ca715f66",
     "grade": false,
     "grade_id": "cell-7b4408ef8f4495a8",
     "locked": true,
     "schema_version": 3,
     "solution": false,
     "task": false
    }
   },
   "source": [
    "# Bayesian Statistics\n",
    "\n",
    "This checkpoint is designed to test your understanding of applying Bayes' theorem.\n",
    "\n",
    "Specifically, this will cover:\n",
    "\n",
    "* Interpreting a word problem and applying Bayes' theorem\n",
    "* Manipulating the elements of Bayes' theorem to a given problem context"
   ]
  },
  {
   "cell_type": "markdown",
   "metadata": {
    "deletable": false,
    "editable": false,
    "nbgrader": {
     "cell_type": "markdown",
     "checksum": "f3c051fd5854c54b8519917cec7ff35c",
     "grade": false,
     "grade_id": "cell-8718dd5f7f3772b0",
     "locked": true,
     "schema_version": 3,
     "solution": false,
     "task": false
    }
   },
   "source": [
    "## Your Task: Calculate Probabilities Using Bayes' Theorem\n",
    "\n",
    "### Problem Context\n",
    "\n",
    "Thomas is going to get a new puppy. There are two major decisions involved: what _location_ he gets the puppy from, and what _size_ the puppy is.\n",
    "\n",
    "The possible **locations** for getting the puppy are the **pet store** or the **pound**. These are mutually exclusive and collectively exhaustive probabilities, meaning that Thomas will only go to one location, and there is a 100% probability that he will go to one of these two locations. We'll represent those probabilities as $P(Pet Store)$ and $P(Pound)$ as needed.\n",
    "\n",
    "The possible puppy **sizes** are **small**, **medium**, or **large**. Again, these are mutually exclusive and collectively exhaustive probabilities, so a given puppy has only one size and there is a 100% probability that Thomas will get a puppy with one of these three sizes. We'll represent those probabilities as $P(Small)$, $P(Medium)$, and $P(Large)$ as needed.\n",
    "\n",
    "### Known Probabilities\n",
    "\n",
    "1. $P(Pet Store) = 0.2$\n",
    "   * The probability of Thomas going to the pet store is 20%\n",
    "2. $P(Small \\mid Pet Store) = 0.6$\n",
    "   * If he goes to the pet store, the probability of him getting a small puppy is 60%\n",
    "3. $P(Medium \\mid Pet Store) = 0.3$\n",
    "   * If he goes to the pet store, the probability of him getting a medium puppy is 30%\n",
    "4. $P(Large \\mid Pet Store) = 0.1$\n",
    "   * If he goes to the pet store, the probability of him getting a large puppy is 10%\n",
    "5. $P(Small \\mid Pound) = 0.1$\n",
    "   * If he goes to the pound, the probability of him getting a small puppy is 10%\n",
    "6. $P(Medium \\mid Pound) = 0.35$\n",
    "   * If he goes to the pound, the probability of him getting a medium puppy is 35%\n",
    "7. $P(Large \\mid Pound) = 0.55$\n",
    "   * If he goes to the pound, the probability of him getting a large puppy is 55%\n",
    "\n",
    "### Formula Reminders\n",
    "\n",
    "This is the formula for Bayes' theorem:\n",
    "\n",
    "$$P(A \\mid B) = \\dfrac{P(B \\mid A)P(A)}{P(B)}$$\n",
    "\n",
    "In other words, the probability of A given B is the probability of B given A times the probability of A, divided by the probability of B.\n",
    "\n",
    "Additionally, recall the law of total probability:\n",
    "\n",
    "$$P(A) = \\sum_i P(A \\mid B_i)P(B_i)$$\n",
    "\n",
    "In other words, the probability of A is the sum of all (probability of A given B times the probability of B) for all B.\n",
    "\n",
    "### Requirements\n",
    "\n",
    "#### 1. What is the probability of Thomas getting a small puppy?\n",
    "\n",
    "#### 2. Given that he got a large puppy, what is the probability that Thomas went to the pet store?"
   ]
  },
  {
   "cell_type": "markdown",
   "metadata": {
    "deletable": false,
    "editable": false,
    "nbgrader": {
     "cell_type": "markdown",
     "checksum": "79a9ace3cc1a2385a4386e644789573e",
     "grade": false,
     "grade_id": "cell-f8f520a0a0b8652a",
     "locked": true,
     "schema_version": 3,
     "solution": false,
     "task": false
    }
   },
   "source": [
    "## 1. What is the probability of Thomas getting a small puppy?\n",
    "\n",
    "In other words, what is $P(Small)$?\n",
    "\n",
    "We recommend that you make as many intermediate variables as you need, to represent the known probabilities listed above and to plug them into the appropriate formula. It is also helpful to include comments to help you keep track of your logic.\n",
    "\n",
    "Assign your answer to `p_small`."
   ]
  },
  {
   "cell_type": "code",
   "execution_count": 16,
   "metadata": {
    "deletable": false,
    "nbgrader": {
     "cell_type": "code",
     "checksum": "1949a13cbccec14fbbaae6258eaa8bc2",
     "grade": false,
     "grade_id": "cell-26e7a79fe3b157f0",
     "locked": false,
     "schema_version": 3,
     "solution": true,
     "task": false
    }
   },
   "outputs": [
    {
     "data": {
      "text/plain": [
       "0.2"
      ]
     },
     "execution_count": 16,
     "metadata": {},
     "output_type": "execute_result"
    }
   ],
   "source": [
    "# Replace None with appropriate code\n",
    "p_petstore = 0.2\n",
    "p_pound = 0.8\n",
    "#The probability of Thomas going to the pet store is 20%\n",
    "p_smallpetstore = 0.6\n",
    " \n",
    "#If he goes to the pet store, the probability of him getting a small puppy is 60%\n",
    "p_mediumpetstore = 0.3\n",
    " \n",
    "#If he goes to the pet store, the probability of him getting a medium puppy is 30%\n",
    "p_largepetstore = 0.1\n",
    " \n",
    "#If he goes to the pet store, the probability of him getting a large puppy is 10%\n",
    "p_smallpound = 0.1\n",
    " \n",
    "#If he goes to the pound, the probability of him getting a small puppy is 10%\n",
    "p_mediumpound = 0.35\n",
    " \n",
    "#If he goes to the pound, the probability of him getting a medium puppy is 35%\n",
    "p_largepound = 0.55\n",
    " \n",
    "#If he goes to the pound, the probability of him getting a large puppy is 55%\n",
    "\n",
    "\n",
    "# YOUR CODE HERE\n",
    "p_small = (p_petstore*p_smallpetstore)+(p_pound*p_smallpound)\n",
    "#raise NotImplementedError()\n",
    "p_small"
   ]
  },
  {
   "cell_type": "code",
   "execution_count": 17,
   "metadata": {
    "deletable": false,
    "editable": false,
    "nbgrader": {
     "cell_type": "code",
     "checksum": "3665d9fe55c74f0d96218a8c003433cd",
     "grade": true,
     "grade_id": "cell-77bf83e0b251e1af",
     "locked": true,
     "points": 0.5,
     "schema_version": 3,
     "solution": false,
     "task": false
    }
   },
   "outputs": [],
   "source": [
    "# PUT ALL WORK FOR THE ABOVE QUESTION ABOVE THIS CELL\n",
    "# THIS UNALTERABLE CELL CONTAINS HIDDEN TESTS\n",
    "\n",
    "# p_small should be a floating point probability between 0 and 1\n",
    "assert type(p_small) == float\n",
    "assert 0 <= p_small and p_small <= 1"
   ]
  },
  {
   "cell_type": "code",
   "execution_count": 8,
   "metadata": {
    "deletable": false,
    "editable": false,
    "nbgrader": {
     "cell_type": "code",
     "checksum": "604e5f7c754da1b3fc1529868096844a",
     "grade": true,
     "grade_id": "cell-9adbd593a0ff16fa",
     "locked": true,
     "points": 2,
     "schema_version": 3,
     "solution": false,
     "task": false
    }
   },
   "outputs": [],
   "source": [
    "# PUT ALL WORK FOR THE ABOVE QUESTION ABOVE THIS CELL\n",
    "# THIS UNALTERABLE CELL CONTAINS HIDDEN TESTS"
   ]
  },
  {
   "cell_type": "markdown",
   "metadata": {
    "deletable": false,
    "editable": false,
    "nbgrader": {
     "cell_type": "markdown",
     "checksum": "22b283517a44b6bebe2cde3bbaa2021c",
     "grade": false,
     "grade_id": "cell-f861fb23efe118f1",
     "locked": true,
     "schema_version": 3,
     "solution": false,
     "task": false
    }
   },
   "source": [
    "## 2. Given that he got a large puppy, what is the probability that Thomas went to the pet store?\n",
    "\n",
    "In other words, what is $P(Pet Store \\mid Large)$?\n",
    "\n",
    "Hint: In order to calculate this answer, you will need to calculate $P(Large)$. Note that there are 3 sizes of puppy (small, medium, and large), so you can't just subtract $P(Small)$ from 1.\n",
    "\n",
    "Assign your answer to `p_pet_store_given_large`."
   ]
  },
  {
   "cell_type": "code",
   "execution_count": 19,
   "metadata": {
    "deletable": false,
    "nbgrader": {
     "cell_type": "code",
     "checksum": "00e2ca399b207bab34e0528dfa98ae60",
     "grade": false,
     "grade_id": "cell-b53fe8cfa2dfdaf6",
     "locked": false,
     "schema_version": 3,
     "solution": true,
     "task": false
    }
   },
   "outputs": [
    {
     "data": {
      "text/plain": [
       "0.043478260869565216"
      ]
     },
     "execution_count": 19,
     "metadata": {},
     "output_type": "execute_result"
    }
   ],
   "source": [
    "# Replace None with appropriate code\n",
    "p_pet_store_given_large = None\n",
    "# YOUR CODE HERE\n",
    "p_large = (p_largepetstore*p_petstore)+(p_largepound*p_pound)\n",
    "p_pet_store_given_large = (p_largepetstore*p_petstore)/p_large\n",
    "#raise NotImplementedError()\n",
    "p_pet_store_given_large"
   ]
  },
  {
   "cell_type": "code",
   "execution_count": 20,
   "metadata": {
    "deletable": false,
    "editable": false,
    "nbgrader": {
     "cell_type": "code",
     "checksum": "bb12be955f803d86ddaea56336a1cd12",
     "grade": true,
     "grade_id": "cell-bfec96cabf878ae6",
     "locked": true,
     "points": 0.5,
     "schema_version": 3,
     "solution": false,
     "task": false
    }
   },
   "outputs": [],
   "source": [
    "# PUT ALL WORK FOR THE ABOVE QUESTION ABOVE THIS CELL\n",
    "# THIS UNALTERABLE CELL CONTAINS HIDDEN TESTS\n",
    "\n",
    "# p_small should be a floating point probability between 0 and 1\n",
    "assert type(p_pet_store_given_large) == float\n",
    "assert 0 <= p_pet_store_given_large and p_pet_store_given_large <= 1"
   ]
  },
  {
   "cell_type": "code",
   "execution_count": 13,
   "metadata": {
    "deletable": false,
    "editable": false,
    "nbgrader": {
     "cell_type": "code",
     "checksum": "54e8863f11043c5f5c207d48368189f5",
     "grade": true,
     "grade_id": "cell-296adef77dc9251f",
     "locked": true,
     "points": 2,
     "schema_version": 3,
     "solution": false,
     "task": false
    }
   },
   "outputs": [],
   "source": [
    "# PUT ALL WORK FOR THE ABOVE QUESTION ABOVE THIS CELL\n",
    "# THIS UNALTERABLE CELL CONTAINS HIDDEN TESTS"
   ]
  },
  {
   "cell_type": "code",
   "execution_count": null,
   "metadata": {},
   "outputs": [],
   "source": []
  }
 ],
 "metadata": {
  "kernelspec": {
   "display_name": "Python 3",
   "language": "python",
   "name": "python3"
  },
  "language_info": {
   "codemirror_mode": {
    "name": "ipython",
    "version": 3
   },
   "file_extension": ".py",
   "mimetype": "text/x-python",
   "name": "python",
   "nbconvert_exporter": "python",
   "pygments_lexer": "ipython3",
   "version": "3.8.5"
  }
 },
 "nbformat": 4,
 "nbformat_minor": 4
}
